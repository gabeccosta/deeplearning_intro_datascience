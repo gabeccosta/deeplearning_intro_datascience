{
 "cells": [
  {
   "cell_type": "markdown",
   "metadata": {},
   "source": [
    "# Shallow Network\n",
    "## Rede neural com uma unica camada para o problema de classificação de digitos utilizando o framework TensorFlow\n",
    "## A base de dados é a MNIST com 10 classes (dígitos de 0 a 9)"
   ]
  },
  {
   "cell_type": "code",
   "execution_count": 2,
   "metadata": {},
   "outputs": [],
   "source": [
    "import tensorflow as tf\n",
    "from tensorflow.examples.tutorials.mnist import input_data as mnist_data"
   ]
  },
  {
   "cell_type": "code",
   "execution_count": 3,
   "metadata": {},
   "outputs": [],
   "source": [
    "tf.GraphKeys.VARIABLES = tf.GraphKeys.GLOBAL_VARIABLES"
   ]
  },
  {
   "cell_type": "markdown",
   "metadata": {},
   "source": [
    "(1) Definir a Arquitetura da rede:\n",
    "    - Camada de entrada = número de features = número de pixels da imagem\n",
    "      As imagens da MNIST tem 28x28 pixels, ou seja 784 features\n",
    "    - Camada de saída = número de classes = número de dígitos\n",
    "      Na MNIST temos 10 dígitos, de 0 a 9, ou seja 10 neurônios de saída\n",
    "     "
   ]
  },
  {
   "cell_type": "code",
   "execution_count": 4,
   "metadata": {},
   "outputs": [],
   "source": [
    "# placeholder : alocacao de tamanho indefinido\n",
    "# variable : alocacao de tamanho pre-definido\n",
    "\n",
    "# matriz de entrada\n",
    "# placeholder do tipo float, com numero indefinido de imagens porem todas de tamanho 28x28x1\n",
    "X = tf.placeholder(tf.float32, [None, 28, 28, 1])"
   ]
  },
  {
   "cell_type": "code",
   "execution_count": 5,
   "metadata": {},
   "outputs": [],
   "source": [
    "# matriz de pesos - 784 x 10 (784 features x 10 classes)\n",
    "W = tf.Variable(tf.zeros([784,10]))\n",
    "# termos bias - 10, um para cada classe\n",
    "b = tf.Variable(tf.zeros([10]))"
   ]
  },
  {
   "cell_type": "code",
   "execution_count": 6,
   "metadata": {},
   "outputs": [],
   "source": [
    "# camada de saida (rotulos reais)\n",
    "Y = tf.placeholder(tf.float32, [None, 10])"
   ]
  },
  {
   "cell_type": "markdown",
   "metadata": {},
   "source": [
    "(2) Definir como serão feitos os cálculos;\n",
    "uso de multiplicação matricial! $$f(\\mathbf{x}) = W\\mathbf{x} + \\mathbf{b}$$\n",
    "inicializar os pesos e outras variaveis"
   ]
  },
  {
   "cell_type": "code",
   "execution_count": 7,
   "metadata": {},
   "outputs": [],
   "source": [
    "init = tf.global_variables_initializer() # instancia inicializacao"
   ]
  },
  {
   "cell_type": "code",
   "execution_count": 8,
   "metadata": {},
   "outputs": [],
   "source": [
    "# As predicoes sao dadas pela formula anterior\n",
    "X1 = tf.reshape(X, [-1, 784])  # vetoriza as imagens\n",
    "# Y_ = tf.nn.softmax(tf.bias_add(tf.matmul(X1, W), b)) # multiplica X1 por W, e soma b\n",
    "Y_ = tf.nn.softmax( tf.matmul(X1, W) + b) # multiplica X1 por W, e soma b"
   ]
  },
  {
   "cell_type": "markdown",
   "metadata": {},
   "source": [
    "(3) Funcao de custo: informa quão longe estamos da solução ideal\n",
    "    Entropia cruzada\n",
    "    $$\\sum_{i=0}^{N} -(Y \\cdot \\log(\\hat Y))$$"
   ]
  },
  {
   "cell_type": "code",
   "execution_count": 9,
   "metadata": {},
   "outputs": [],
   "source": [
    "crossEnt = -tf.reduce_sum(Y * tf.log(Y_))"
   ]
  },
  {
   "cell_type": "code",
   "execution_count": 10,
   "metadata": {},
   "outputs": [],
   "source": [
    "# alem da funcao de custo vamos calcular tambem a acuracia\n",
    "# Y[i]  = [0   , 0  , 0  , 1  ,  0  , 0  , 0  , 0  , 0  , 0  ] -> vetor rotulo real\n",
    "# Y_[i] = [0.1 , 0  , 0.2, 0.7,  0  , 0  , 0  , 0  , 0  , 0  ] -> vetor predito pela rede\n",
    "correctPred = tf.equal( tf.argmax(Y_,1), tf.argmax(Y,1) )\n",
    "accuracy = tf.reduce_mean(tf.cast(correctPred, tf.float32))"
   ]
  },
  {
   "cell_type": "markdown",
   "metadata": {},
   "source": [
    "(4) Metodo de otimizacao e suas variaveis\n",
    "\n",
    "    *Gradiente Descendente* ou versões: RMSProp, Adam, etc.\n",
    "    *Taxa de Aprendizado* = 0.003\n",
    "    *Batch size* = 64"
   ]
  },
  {
   "cell_type": "code",
   "execution_count": 11,
   "metadata": {},
   "outputs": [],
   "source": [
    "lrate = 0.003\n",
    "batchSize = 64\n",
    "\n",
    "optMethod = tf.train.GradientDescentOptimizer(lrate)\n",
    "trainProcess = optMethod.minimize(crossEnt)"
   ]
  },
  {
   "cell_type": "markdown",
   "metadata": {},
   "source": [
    "(5) Rodar um experimento com a MNIST"
   ]
  },
  {
   "cell_type": "code",
   "execution_count": 12,
   "metadata": {},
   "outputs": [
    {
     "name": "stdout",
     "output_type": "stream",
     "text": [
      "Successfully downloaded train-images-idx3-ubyte.gz 9912422 bytes.\n",
      "Extracting data/train-images-idx3-ubyte.gz\n",
      "Successfully downloaded train-labels-idx1-ubyte.gz 28881 bytes.\n",
      "Extracting data/train-labels-idx1-ubyte.gz\n",
      "Successfully downloaded t10k-images-idx3-ubyte.gz 1648877 bytes.\n",
      "Extracting data/t10k-images-idx3-ubyte.gz\n",
      "Successfully downloaded t10k-labels-idx1-ubyte.gz 4542 bytes.\n",
      "Extracting data/t10k-labels-idx1-ubyte.gz\n"
     ]
    }
   ],
   "source": [
    "mnist = mnist_data.read_data_sets(\"data\", one_hot=True, reshape=False, validation_size=0)"
   ]
  },
  {
   "cell_type": "code",
   "execution_count": 14,
   "metadata": {},
   "outputs": [],
   "source": [
    "# Sessao TensorFlow\n",
    "sess = tf.Session() # instancia a sessao\n",
    "sess.run(init) # inicializa variaveis com o objeto que criamos anteriormente (init)\n",
    "\n",
    "# geralmente 500 ou mais iteracoes sao necessarias\n",
    "iterations = 20 # alterar aqui ou rodar diversas vezes o bloco a seguir"
   ]
  },
  {
   "cell_type": "code",
   "execution_count": 15,
   "metadata": {},
   "outputs": [
    {
     "name": "stdout",
     "output_type": "stream",
     "text": [
      "0 Loss: 126.144 Accuracy: 40.625%\n",
      "1 Loss: 111.234 Accuracy: 73.4375%\n",
      "2 Loss: 99.1913 Accuracy: 76.5625%\n",
      "3 Loss: 97.6461 Accuracy: 79.6875%\n",
      "4 Loss: 92.1918 Accuracy: 73.4375%\n",
      "5 Loss: 84.0675 Accuracy: 79.6875%\n",
      "6 Loss: 84.4014 Accuracy: 70.3125%\n",
      "7 Loss: 81.6924 Accuracy: 73.4375%\n",
      "8 Loss: 75.0833 Accuracy: 76.5625%\n",
      "9 Loss: 58.308 Accuracy: 81.25%\n",
      "10 Loss: 65.9334 Accuracy: 81.25%\n",
      "11 Loss: 63.0058 Accuracy: 79.6875%\n",
      "12 Loss: 69.2995 Accuracy: 76.5625%\n",
      "13 Loss: 66.1838 Accuracy: 81.25%\n",
      "14 Loss: 51.9511 Accuracy: 89.0625%\n",
      "15 Loss: 53.9105 Accuracy: 87.5%\n",
      "16 Loss: 52.5584 Accuracy: 85.9375%\n",
      "17 Loss: 51.3248 Accuracy: 87.5%\n",
      "18 Loss: 56.7684 Accuracy: 84.375%\n",
      "19 Loss: 50.7153 Accuracy: 82.8125%\n"
     ]
    }
   ],
   "source": [
    "for i in range(iterations):\n",
    "    # carrega batch um par Imagem, Rotulo\n",
    "    batX, batY = mnist.train.next_batch(batchSize)\n",
    "    # passar para o tensorflow, preciso definir um dicionario\n",
    "    # o dicionario contem o batch no formato Chave, Valor: Imagens, Rotulos\n",
    "    # a 'chave' deve ser a mesma que definimos como placeholders para a arquitetura\n",
    "    # nesse caso X e Y\n",
    "    trainData = {X: batX, Y: batY}\n",
    "    # executa uma iteracao (feed-forward e backpropagation)\n",
    "    sess.run(trainProcess, feed_dict=trainData)\n",
    "    \n",
    "    loss = sess.run(crossEnt, feed_dict=trainData)\n",
    "    acc  = sess.run(accuracy, feed_dict=trainData)\n",
    "    print(str(i) + \" Loss: \" + str(loss) + \" Accuracy: \"+str(acc*100)+\"%\")"
   ]
  },
  {
   "cell_type": "markdown",
   "metadata": {},
   "source": [
    "(6) Avaliar o modelo em dados nao vistos no treinamento"
   ]
  },
  {
   "cell_type": "code",
   "execution_count": 16,
   "metadata": {},
   "outputs": [
    {
     "name": "stdout",
     "output_type": "stream",
     "text": [
      "Accuracy on test data: 79.5799970627%\n"
     ]
    }
   ],
   "source": [
    "testData = {X: mnist.test.images, Y: mnist.test.labels}\n",
    "accTest  = sess.run(accuracy, feed_dict=testData)\n",
    "print(\"Accuracy on test data: \" + str(accTest*100)+\"%\")"
   ]
  },
  {
   "cell_type": "code",
   "execution_count": null,
   "metadata": {},
   "outputs": [],
   "source": []
  }
 ],
 "metadata": {
  "kernelspec": {
   "display_name": "Python 3",
   "language": "python",
   "name": "python3"
  },
  "language_info": {
   "codemirror_mode": {
    "name": "ipython",
    "version": 3
   },
   "file_extension": ".py",
   "mimetype": "text/x-python",
   "name": "python",
   "nbconvert_exporter": "python",
   "pygments_lexer": "ipython3",
   "version": "3.6.2"
  }
 },
 "nbformat": 4,
 "nbformat_minor": 2
}
