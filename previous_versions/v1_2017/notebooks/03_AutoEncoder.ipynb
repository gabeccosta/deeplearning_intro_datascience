{
 "cells": [
  {
   "cell_type": "markdown",
   "metadata": {},
   "source": [
    "# AutoEncoder\n",
    "## Rede neural com Encoder e Decoder de 1 camada\n",
    "## A base de dados é a MNIST com 10 classes (dígitos de 0 a 9)"
   ]
  },
  {
   "cell_type": "code",
   "execution_count": 35,
   "metadata": {},
   "outputs": [],
   "source": [
    "import tensorflow as tf\n",
    "from tensorflow.examples.tutorials.mnist import input_data as mnist_data\n",
    "import numpy as np\n",
    "\n",
    "import matplotlib as mpl\n",
    "mpl.use('Agg')\n",
    "import matplotlib.pyplot as plt"
   ]
  },
  {
   "cell_type": "code",
   "execution_count": 2,
   "metadata": {},
   "outputs": [],
   "source": [
    "tf.GraphKeys.VARIABLES = tf.GraphKeys.GLOBAL_VARIABLES"
   ]
  },
  {
   "cell_type": "markdown",
   "metadata": {},
   "source": [
    "(1) Definir a Arquitetura da rede:\n",
    "    - Camada de entrada = número de features = número de pixels da imagem\n",
    "      As imagens da MNIST tem 28x28 pixels, ou seja 784 features\n",
    "    - Camada de saída = número de classes = número de dígitos\n",
    "      Na MNIST temos 10 dígitos, de 0 a 9, ou seja 10 neurônios de saída\n",
    "     "
   ]
  },
  {
   "cell_type": "code",
   "execution_count": 20,
   "metadata": {},
   "outputs": [],
   "source": [
    "# placeholder : alocacao de tamanho indefinido\n",
    "# variable : alocacao de tamanho pre-definido\n",
    "\n",
    "# tamanho das camadas do autoencoder\n",
    "IN = 784\n",
    "E1 = 128 # camada encoder 1\n",
    "D1 = 784 # decoder com camada de saida (output)\n",
    "\n",
    "# matriz de entrada\n",
    "# placeholder do tipo float, com numero indefinido de imagens porem todas de tamanho 28x28x1\n",
    "X = tf.placeholder(tf.float32, [None, 28, 28, 1])"
   ]
  },
  {
   "cell_type": "code",
   "execution_count": 21,
   "metadata": {},
   "outputs": [],
   "source": [
    "# Primeira camada, encoder\n",
    "# matriz de pesos - IN x E1 (784 pixels/features x E1 neuronios do encoder)\n",
    "We = tf.Variable(tf.truncated_normal([784, E1], stddev=0.1))\n",
    "# termos bias - E1, um para cada neuronio\n",
    "be = tf.Variable(tf.truncated_normal([E1]))\n",
    "\n",
    "# Segunda camada oculta\n",
    "# matriz de pesos - E1 x O (128 x 784 neuronios)\n",
    "Wd = tf.Variable(tf.truncated_normal([E1, O], stddev=0.1))\n",
    "# termos bias - L2, um para cada neuronio\n",
    "bd = tf.Variable(tf.truncated_normal([O]))"
   ]
  },
  {
   "cell_type": "code",
   "execution_count": null,
   "metadata": {},
   "outputs": [],
   "source": []
  },
  {
   "cell_type": "markdown",
   "metadata": {},
   "source": [
    "(2) Definir como serão feitos os cálculos;\n",
    "uso de multiplicação matricial! \n",
    "\n",
    "$$f_1(\\mathbf{x}_1) = \\operatorname{sigmoid}(W_1\\mathbf{x}_1 + \\mathbf{b}_1) = \\mathbf{x}_2$$\n",
    "$$f_2(\\mathbf{x}_2) =  \\operatorname{sigmoid}(W_2\\mathbf{x}_2 + \\mathbf{b}_2) = \\hat{\\mathbf{x}}$$\n",
    "\n",
    "inicializar os pesos e outras variaveis"
   ]
  },
  {
   "cell_type": "code",
   "execution_count": null,
   "metadata": {},
   "outputs": [],
   "source": []
  },
  {
   "cell_type": "code",
   "execution_count": 22,
   "metadata": {},
   "outputs": [],
   "source": [
    "# As predicoes sao dadas pela formula anterior\n",
    "X1 = tf.reshape(X, [-1, 784])  # vetoriza as imagens\n",
    "\n",
    "# codigo (produzido pelo encoder)\n",
    "H  = tf.nn.sigmoid( tf.nn.bias_add(tf.matmul(X1,We), be))\n",
    "\n",
    "# reconstrucao (produzida pelo decoder)\n",
    "X_ = tf.nn.sigmoid( tf.nn.bias_add(tf.matmul(H ,Wd), bd))"
   ]
  },
  {
   "cell_type": "markdown",
   "metadata": {},
   "source": [
    "(3) Funcao de custo: informa quão longe estamos da solução ideal\n",
    "\n",
    "Função de erro médio quadrático = MSE (Mean Squared Error)\n",
    "    $$\\frac{1}{N}\\sum_{i=0}^{N} (X -\\hat X)^2$$"
   ]
  },
  {
   "cell_type": "code",
   "execution_count": 23,
   "metadata": {},
   "outputs": [],
   "source": [
    "batch_mse = tf.reduce_mean(tf.pow(X1 - X_, 2), 1)\n",
    "mse       = tf.reduce_mean(tf.pow(X1 - X_, 2))\n",
    "error     = X1 - X_"
   ]
  },
  {
   "cell_type": "code",
   "execution_count": null,
   "metadata": {},
   "outputs": [],
   "source": []
  },
  {
   "cell_type": "markdown",
   "metadata": {},
   "source": [
    "(4) Metodo de otimizacao e suas variaveis\n",
    "\n",
    "    *Gradiente Descendente* ou versões: RMSProp, Adam, etc.\n",
    "    *Taxa de Aprendizado* = 0.003\n",
    "    *Batch size* = 64"
   ]
  },
  {
   "cell_type": "code",
   "execution_count": 39,
   "metadata": {},
   "outputs": [],
   "source": [
    "lrate = 0.005\n",
    "batchSize = 100\n",
    "iterations = 101\n",
    "\n",
    "optMethod = tf.train.RMSPropOptimizer(lrate) # metodo alternativo de otimizacao\n",
    "trainProcess = optMethod.minimize(mse) # otimiza o erro medio quadratico"
   ]
  },
  {
   "cell_type": "markdown",
   "metadata": {},
   "source": [
    "(5) Rodar um experimento com a MNIST"
   ]
  },
  {
   "cell_type": "code",
   "execution_count": 25,
   "metadata": {},
   "outputs": [
    {
     "name": "stdout",
     "output_type": "stream",
     "text": [
      "Extracting data/train-images-idx3-ubyte.gz\n",
      "Extracting data/train-labels-idx1-ubyte.gz\n",
      "Extracting data/t10k-images-idx3-ubyte.gz\n",
      "Extracting data/t10k-labels-idx1-ubyte.gz\n"
     ]
    }
   ],
   "source": [
    "mnist = mnist_data.read_data_sets(\"data\", one_hot=True, reshape=False, validation_size=0)"
   ]
  },
  {
   "cell_type": "code",
   "execution_count": 40,
   "metadata": {},
   "outputs": [],
   "source": [
    "init = tf.global_variables_initializer() # instancia inicializacao\n",
    "# Sessao TensorFlow\n",
    "sess = tf.Session() # instancia a sessao\n",
    "sess.run(init) # inicializa variaveis com o objeto que criamos anteriormente (init)"
   ]
  },
  {
   "cell_type": "code",
   "execution_count": 64,
   "metadata": {},
   "outputs": [
    {
     "name": "stdout",
     "output_type": "stream",
     "text": [
      "0 Loss: 0.0202507\n",
      "1 Loss: 0.0220343\n",
      "2 Loss: 0.0199134\n",
      "3 Loss: 0.0195708\n",
      "4 Loss: 0.0233375\n",
      "5 Loss: 0.0209363\n",
      "6 Loss: 0.0215175\n",
      "7 Loss: 0.021645\n",
      "8 Loss: 0.021014\n",
      "9 Loss: 0.0226081\n",
      "10 Loss: 0.0207953\n",
      "11 Loss: 0.0194543\n",
      "12 Loss: 0.020486\n",
      "13 Loss: 0.0177643\n",
      "14 Loss: 0.0189998\n",
      "15 Loss: 0.0192531\n",
      "16 Loss: 0.0198559\n",
      "17 Loss: 0.0211905\n",
      "18 Loss: 0.0181282\n",
      "19 Loss: 0.0211656\n",
      "20 Loss: 0.0198987\n",
      "21 Loss: 0.0192939\n",
      "22 Loss: 0.0224239\n",
      "23 Loss: 0.01866\n",
      "24 Loss: 0.0201612\n",
      "25 Loss: 0.0210034\n",
      "26 Loss: 0.0210844\n",
      "27 Loss: 0.0206154\n",
      "28 Loss: 0.0204866\n",
      "29 Loss: 0.0200271\n",
      "30 Loss: 0.0181554\n",
      "31 Loss: 0.0184777\n",
      "32 Loss: 0.0205257\n",
      "33 Loss: 0.0169936\n",
      "34 Loss: 0.0186743\n",
      "35 Loss: 0.0187961\n",
      "36 Loss: 0.0177526\n",
      "37 Loss: 0.0189987\n",
      "38 Loss: 0.0184905\n",
      "39 Loss: 0.0195677\n",
      "40 Loss: 0.0191386\n",
      "41 Loss: 0.0187154\n",
      "42 Loss: 0.0200178\n",
      "43 Loss: 0.0188027\n",
      "44 Loss: 0.0202893\n",
      "45 Loss: 0.0188949\n",
      "46 Loss: 0.018202\n",
      "47 Loss: 0.0181962\n",
      "48 Loss: 0.0189736\n",
      "49 Loss: 0.0182651\n",
      "50 Loss: 0.0186939\n",
      "51 Loss: 0.0185613\n",
      "52 Loss: 0.0186985\n",
      "53 Loss: 0.0185959\n",
      "54 Loss: 0.0171416\n",
      "55 Loss: 0.0170772\n",
      "56 Loss: 0.0186954\n",
      "57 Loss: 0.0178239\n",
      "58 Loss: 0.0188912\n",
      "59 Loss: 0.018156\n",
      "60 Loss: 0.0169953\n",
      "61 Loss: 0.0187592\n",
      "62 Loss: 0.0176522\n",
      "63 Loss: 0.0177844\n",
      "64 Loss: 0.0185428\n",
      "65 Loss: 0.0164129\n",
      "66 Loss: 0.0179518\n",
      "67 Loss: 0.0174742\n",
      "68 Loss: 0.019098\n",
      "69 Loss: 0.0192747\n",
      "70 Loss: 0.0177393\n",
      "71 Loss: 0.01823\n",
      "72 Loss: 0.0175054\n",
      "73 Loss: 0.0182209\n",
      "74 Loss: 0.0175765\n",
      "75 Loss: 0.0188757\n",
      "76 Loss: 0.0178156\n",
      "77 Loss: 0.0163294\n",
      "78 Loss: 0.0173765\n",
      "79 Loss: 0.0181479\n",
      "80 Loss: 0.0184338\n",
      "81 Loss: 0.0181313\n",
      "82 Loss: 0.0189681\n",
      "83 Loss: 0.0191072\n",
      "84 Loss: 0.0181041\n",
      "85 Loss: 0.0162194\n",
      "86 Loss: 0.0164836\n",
      "87 Loss: 0.0167624\n",
      "88 Loss: 0.0168755\n",
      "89 Loss: 0.0164866\n",
      "90 Loss: 0.0171762\n",
      "91 Loss: 0.0175916\n",
      "92 Loss: 0.0169522\n",
      "93 Loss: 0.016215\n",
      "94 Loss: 0.0174551\n",
      "95 Loss: 0.0176365\n",
      "96 Loss: 0.0171238\n",
      "97 Loss: 0.0157171\n",
      "98 Loss: 0.0151766\n",
      "99 Loss: 0.0156619\n",
      "100 Loss: 0.017661\n"
     ]
    }
   ],
   "source": [
    "for i in range(iterations):\n",
    "    # carrega batch um par Imagem, Rotulo\n",
    "    batX, batY = mnist.train.next_batch(batchSize)\n",
    "    # passar para o tensorflow, preciso definir um dicionario\n",
    "    # o dicionario contem o batch no formato Chave, Valor: Imagens apenas\n",
    "    # pois agora assumimos que nao ha' rotulos\n",
    "    trainData = {X: batX}\n",
    "    # executa uma iteracao (feed-forward e backpropagation)\n",
    "    sess.run(trainProcess, feed_dict=trainData)\n",
    "    \n",
    "    loss = sess.run(mse, feed_dict=trainData)\n",
    "    print(str(i) + \" Loss: \" + str(loss))"
   ]
  },
  {
   "cell_type": "markdown",
   "metadata": {},
   "source": [
    "(6) Avaliar o modelo em dados nao vistos no treinamento"
   ]
  },
  {
   "cell_type": "code",
   "execution_count": 65,
   "metadata": {},
   "outputs": [
    {
     "name": "stdout",
     "output_type": "stream",
     "text": [
      "Loss (MSE) on test data: 0.0168641\n"
     ]
    }
   ],
   "source": [
    "testData = {X: mnist.test.images}\n",
    "lossTest  = sess.run(mse, feed_dict=testData)\n",
    "print(\"Loss (MSE) on test data: \" + str(lossTest))"
   ]
  },
  {
   "cell_type": "code",
   "execution_count": 66,
   "metadata": {},
   "outputs": [],
   "source": [
    "testOriginal = mnist.test.images # pega imagens de teste\n",
    "testDecoded  = sess.run(X_, feed_dict=testData) # calcula reconstrucoes com base em testData"
   ]
  },
  {
   "cell_type": "code",
   "execution_count": 67,
   "metadata": {},
   "outputs": [],
   "source": [
    "n = 10\n",
    "plt.figure(figsize=(20,4))\n",
    "for i in range(n):\n",
    "    # imagem original do conjunto de teste\n",
    "    ax = plt.subplot(2, n, i+1)\n",
    "    plt.imshow(testOriginal[i].reshape(28,28))\n",
    "    plt.gray() # converte para escala de cinza\n",
    "    ax.get_xaxis().set_visible(False) # deixa os eixos invisiveis\n",
    "    ax.get_yaxis().set_visible(False)\n",
    "    \n",
    "    # imagem original do conjunto de teste\n",
    "    ax = plt.subplot(2, n, i+1+n)\n",
    "    plt.imshow(testDecoded[i, ...].reshape(28,28))\n",
    "    plt.gray() # converte para escala de cinza\n",
    "    ax.get_xaxis().set_visible(False) # deixa os eixos invisiveis\n",
    "    ax.get_yaxis().set_visible(False)\n",
    "\n",
    "plt.savefig(\"mnist_test_autoencoder.png\")\n",
    "plt.close()"
   ]
  },
  {
   "cell_type": "code",
   "execution_count": 68,
   "metadata": {},
   "outputs": [
    {
     "data": {
      "image/png": "[encoded data removed]",
      "text/plain": [
       "<IPython.core.display.Image object>"
      ]
     },
     "execution_count": 68,
     "metadata": {},
     "output_type": "execute_result"
    }
   ],
   "source": [
    "from IPython.display import Image\n",
    "Image(filename='mnist_test_autoencoder.png')"
   ]
  },
  {
   "cell_type": "code",
   "execution_count": null,
   "metadata": {},
   "outputs": [],
   "source": []
  },
  {
   "cell_type": "code",
   "execution_count": null,
   "metadata": {},
   "outputs": [],
   "source": []
  }
 ],
 "metadata": {
  "kernelspec": {
   "display_name": "Python 3",
   "language": "python",
   "name": "python3"
  },
  "language_info": {
   "codemirror_mode": {
    "name": "ipython",
    "version": 3
   },
   "file_extension": ".py",
   "mimetype": "text/x-python",
   "name": "python",
   "nbconvert_exporter": "python",
   "pygments_lexer": "ipython3",
   "version": "3.6.2"
  }
 },
 "nbformat": 4,
 "nbformat_minor": 2
}
